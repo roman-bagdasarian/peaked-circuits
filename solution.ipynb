{
 "cells": [
  {
   "cell_type": "code",
   "execution_count": null,
   "id": "045dcc4b",
   "metadata": {},
   "outputs": [],
   "source": [
    "import bluequbit\n",
    "bq = bluequbit.init(\"<TOKEN>\")"
   ]
  },
  {
   "cell_type": "code",
   "execution_count": null,
   "id": "30359574",
   "metadata": {},
   "outputs": [],
   "source": [
    "from qiskit import QuantumCircuit\n",
    "quantumcircuit = QuantumCircuit.from_qasm_file(\"<FILE>\")\n",
    "quantumcircuit.measure_all()"
   ]
  },
  {
   "cell_type": "code",
   "execution_count": null,
   "id": "7232b16c",
   "metadata": {},
   "outputs": [],
   "source": [
    "job_result = bq.run(quantumcircuit, device='mps.cpu', shots=1024)\n",
    "counts = job_result.get_counts()\n",
    "print(max(counts, key=counts.get))"
   ]
  }
 ],
 "metadata": {
  "kernelspec": {
   "display_name": ".venv",
   "language": "python",
   "name": "python3"
  },
  "language_info": {
   "name": "python",
   "version": "3.11.12"
  }
 },
 "nbformat": 4,
 "nbformat_minor": 5
}
