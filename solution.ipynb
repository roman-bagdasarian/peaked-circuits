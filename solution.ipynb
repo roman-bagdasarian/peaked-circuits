{
 "cells": [
  {
   "cell_type": "code",
   "execution_count": null,
   "id": "bad88fb0",
   "metadata": {},
   "outputs": [],
   "source": [
    "from qiskit import QuantumCircuit\n",
    "import bluequbit"
   ]
  },
  {
   "cell_type": "markdown",
   "id": "6b4980d6",
   "metadata": {},
   "source": [
    "# Authenticate Token"
   ]
  },
  {
   "cell_type": "code",
   "execution_count": null,
   "id": "045dcc4b",
   "metadata": {},
   "outputs": [],
   "source": [
    "bq = bluequbit.init(\"<TOKEN>\")"
   ]
  },
  {
   "cell_type": "markdown",
   "id": "a5269d0d",
   "metadata": {},
   "source": [
    "# Load the Quantum Circuit"
   ]
  },
  {
   "cell_type": "code",
   "execution_count": null,
   "id": "30359574",
   "metadata": {},
   "outputs": [],
   "source": [
    "quantumcircuit = QuantumCircuit.from_qasm_file(\"<FILE>\")\n",
    "quantumcircuit.measure_all()"
   ]
  },
  {
   "cell_type": "code",
   "execution_count": null,
   "id": "3bf581ce",
   "metadata": {},
   "outputs": [],
   "source": [
    "print(quantumcircuit.count_ops(), quantumcircuit.num_qubits)"
   ]
  },
  {
   "cell_type": "markdown",
   "id": "9c42d718",
   "metadata": {},
   "source": [
    "# Example circuit\n",
    "![Circuit](little-peak.png)"
   ]
  },
  {
   "cell_type": "markdown",
   "id": "cd983cb2",
   "metadata": {},
   "source": [
    "# Run MPS Simulation"
   ]
  },
  {
   "cell_type": "code",
   "execution_count": null,
   "id": "7232b16c",
   "metadata": {},
   "outputs": [],
   "source": [
    "job_result = bq.run(quantumcircuit, device='mps.cpu', shots=1024)\n",
    "counts = job_result.get_counts()\n",
    "print(max(counts, key=counts.get))"
   ]
  }
 ],
 "metadata": {
  "kernelspec": {
   "display_name": ".venv",
   "language": "python",
   "name": "python3"
  },
  "language_info": {
   "name": "python",
   "version": "3.11.12"
  }
 },
 "nbformat": 4,
 "nbformat_minor": 5
}
